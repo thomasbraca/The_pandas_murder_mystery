{
 "cells": [
  {
   "cell_type": "markdown",
   "metadata": {},
   "source": [
    "## `Actividades preliminares`"
   ]
  },
  {
   "cell_type": "markdown",
   "metadata": {},
   "source": [
    "Comenzamos importando la libreria de pandas"
   ]
  },
  {
   "cell_type": "code",
   "execution_count": 102,
   "metadata": {},
   "outputs": [],
   "source": [
    "import pandas as pd\n",
    "\n",
    "pd.set_option('display.max_colwidth', None)"
   ]
  },
  {
   "cell_type": "markdown",
   "metadata": {},
   "source": [
    "Cargamos el dataset que utilizaran durante la investigacion"
   ]
  },
  {
   "cell_type": "code",
   "execution_count": 103,
   "metadata": {},
   "outputs": [],
   "source": [
    "crime_scene_report     = pd.read_csv(\"./datasets/Crime Scene report.csv\")\n",
    "drivers_license        = pd.read_csv(\"./datasets/Drivers license.csv\")\n",
    "facebook_event_checkin = pd.read_csv(\"./datasets/facebook_event_checkin.csv\")\n",
    "getfitnow_checkin      = pd.read_csv(\"./datasets/GetFitNow check in.csv\")\n",
    "getfitnow_members      = pd.read_csv(\"./datasets/GetFitNow members.csv\")\n",
    "income                 = pd.read_csv(\"./datasets/income.csv\")\n",
    "interview              = pd.read_csv(\"./datasets/Interviews.csv\")\n",
    "person                 = pd.read_csv(\"./datasets/Person.csv\")"
   ]
  },
  {
   "cell_type": "markdown",
   "metadata": {},
   "source": [
    "Veamos un poco como estan conformados estos dataframes"
   ]
  },
  {
   "cell_type": "code",
   "execution_count": 104,
   "metadata": {},
   "outputs": [
    {
     "name": "stdout",
     "output_type": "stream",
     "text": [
      "<class 'pandas.core.frame.DataFrame'>\n",
      "RangeIndex: 1228 entries, 0 to 1227\n",
      "Data columns (total 4 columns):\n",
      " #   Column       Non-Null Count  Dtype \n",
      "---  ------       --------------  ----- \n",
      " 0   Date         1228 non-null   object\n",
      " 1   Type         1228 non-null   object\n",
      " 2   Description  939 non-null    object\n",
      " 3   City         1228 non-null   object\n",
      "dtypes: object(4)\n",
      "memory usage: 38.5+ KB\n"
     ]
    }
   ],
   "source": [
    "# Usamos .info() para ver una descripcion general del dataset, como sus tipos de datos en cada columna y si presenta nulos\n",
    "crime_scene_report.info()\n",
    "#Podes cambiar el dataset para ver la informacion general del que quieras"
   ]
  },
  {
   "cell_type": "code",
   "execution_count": 105,
   "metadata": {},
   "outputs": [
    {
     "data": {
      "text/html": [
       "<div>\n",
       "<style scoped>\n",
       "    .dataframe tbody tr th:only-of-type {\n",
       "        vertical-align: middle;\n",
       "    }\n",
       "\n",
       "    .dataframe tbody tr th {\n",
       "        vertical-align: top;\n",
       "    }\n",
       "\n",
       "    .dataframe thead th {\n",
       "        text-align: right;\n",
       "    }\n",
       "</style>\n",
       "<table border=\"1\" class=\"dataframe\">\n",
       "  <thead>\n",
       "    <tr style=\"text-align: right;\">\n",
       "      <th></th>\n",
       "      <th>Date</th>\n",
       "      <th>Type</th>\n",
       "      <th>Description</th>\n",
       "      <th>City</th>\n",
       "    </tr>\n",
       "  </thead>\n",
       "  <tbody>\n",
       "    <tr>\n",
       "      <th>0</th>\n",
       "      <td>2017-01-07</td>\n",
       "      <td>smuggling</td>\n",
       "      <td>NaN</td>\n",
       "      <td>Savannah</td>\n",
       "    </tr>\n",
       "    <tr>\n",
       "      <th>1</th>\n",
       "      <td>2017-01-11</td>\n",
       "      <td>murder</td>\n",
       "      <td>NaN</td>\n",
       "      <td>Springdale</td>\n",
       "    </tr>\n",
       "    <tr>\n",
       "      <th>2</th>\n",
       "      <td>2017-01-12</td>\n",
       "      <td>smuggling</td>\n",
       "      <td>NaN</td>\n",
       "      <td>Melbourne</td>\n",
       "    </tr>\n",
       "  </tbody>\n",
       "</table>\n",
       "</div>"
      ],
      "text/plain": [
       "         Date       Type Description        City\n",
       "0  2017-01-07  smuggling         NaN    Savannah\n",
       "1  2017-01-11     murder         NaN  Springdale\n",
       "2  2017-01-12  smuggling         NaN   Melbourne"
      ]
     },
     "execution_count": 105,
     "metadata": {},
     "output_type": "execute_result"
    }
   ],
   "source": [
    "crime_scene_report.head(3)"
   ]
  },
  {
   "cell_type": "markdown",
   "metadata": {},
   "source": [
    "## `Comenzamos la investigacion`"
   ]
  },
  {
   "cell_type": "markdown",
   "metadata": {},
   "source": [
    "### Un crimen ha ocurrido y el detective necesita tu ayuda. \n"
   ]
  },
  {
   "cell_type": "markdown",
   "metadata": {},
   "source": [
    "#### Pero antes, veamos un diagrama de esquema para ver como estan conectados todos los dataframes\n",
    "\n",
    "<img src=\"./_src/schemeboard.png\">\n",
    "\n",
    "\n",
    "### Te entregaron el informe del lugar del crimen, pero de alguna manera lo perdiste. Recordas vagamente que el crimen fue un ​asesinato​ que ocurrió en algún momento el ​15 de enero de 2018​ y que tuvo lugar en ​Pandas City​. **Te recomiendo comenzar por recuperar el informe correspondiente de su respectivo dataframe**"
   ]
  },
  {
   "cell_type": "code",
   "execution_count": 106,
   "metadata": {},
   "outputs": [
    {
     "data": {
      "text/html": [
       "<div>\n",
       "<style scoped>\n",
       "    .dataframe tbody tr th:only-of-type {\n",
       "        vertical-align: middle;\n",
       "    }\n",
       "\n",
       "    .dataframe tbody tr th {\n",
       "        vertical-align: top;\n",
       "    }\n",
       "\n",
       "    .dataframe thead th {\n",
       "        text-align: right;\n",
       "    }\n",
       "</style>\n",
       "<table border=\"1\" class=\"dataframe\">\n",
       "  <thead>\n",
       "    <tr style=\"text-align: right;\">\n",
       "      <th></th>\n",
       "      <th>Date</th>\n",
       "      <th>Type</th>\n",
       "      <th>Description</th>\n",
       "      <th>City</th>\n",
       "    </tr>\n",
       "  </thead>\n",
       "  <tbody>\n",
       "    <tr>\n",
       "      <th>781</th>\n",
       "      <td>2018-01-15</td>\n",
       "      <td>murder</td>\n",
       "      <td>Security footage shows that there were 2 witnesses. The first witness lives at the last house on \"Northwestern Dr\". The second witness, named Annabel, lives somewhere on \"Franklin Ave\".</td>\n",
       "      <td>Pandas City</td>\n",
       "    </tr>\n",
       "  </tbody>\n",
       "</table>\n",
       "</div>"
      ],
      "text/plain": [
       "           Date    Type  \\\n",
       "781  2018-01-15  murder   \n",
       "\n",
       "                                                                                                                                                                                   Description  \\\n",
       "781  Security footage shows that there were 2 witnesses. The first witness lives at the last house on \"Northwestern Dr\". The second witness, named Annabel, lives somewhere on \"Franklin Ave\".   \n",
       "\n",
       "            City  \n",
       "781  Pandas City  "
      ]
     },
     "execution_count": 106,
     "metadata": {},
     "output_type": "execute_result"
    }
   ],
   "source": [
    "informe = crime_scene_report[(crime_scene_report[\"Date\"] == \"2018-01-15\") & \n",
    "                            (crime_scene_report[\"Type\"] == \"murder\") &\n",
    "                            (crime_scene_report[\"City\"] == \"Pandas City\")]\n",
    "informe"
   ]
  },
  {
   "cell_type": "code",
   "execution_count": 107,
   "metadata": {},
   "outputs": [
    {
     "data": {
      "text/plain": [
       "'Security footage shows that there were 2 witnesses. The first witness lives at the last house on \"Northwestern Dr\". The second witness, named Annabel, lives somewhere on \"Franklin Ave\".'"
      ]
     },
     "execution_count": 107,
     "metadata": {},
     "output_type": "execute_result"
    }
   ],
   "source": [
    "#Reviso la descripcion\n",
    "crime_scene_report['Description'][781]"
   ]
  },
  {
   "cell_type": "code",
   "execution_count": 108,
   "metadata": {},
   "outputs": [
    {
     "data": {
      "text/html": [
       "<div>\n",
       "<style scoped>\n",
       "    .dataframe tbody tr th:only-of-type {\n",
       "        vertical-align: middle;\n",
       "    }\n",
       "\n",
       "    .dataframe tbody tr th {\n",
       "        vertical-align: top;\n",
       "    }\n",
       "\n",
       "    .dataframe thead th {\n",
       "        text-align: right;\n",
       "    }\n",
       "</style>\n",
       "<table border=\"1\" class=\"dataframe\">\n",
       "  <thead>\n",
       "    <tr style=\"text-align: right;\">\n",
       "      <th></th>\n",
       "      <th>Id</th>\n",
       "      <th>Name</th>\n",
       "      <th>License_Id</th>\n",
       "      <th>Address_Number</th>\n",
       "      <th>Address_Street_Name</th>\n",
       "      <th>Ssn</th>\n",
       "    </tr>\n",
       "  </thead>\n",
       "  <tbody>\n",
       "    <tr>\n",
       "      <th>9609</th>\n",
       "      <td>96595</td>\n",
       "      <td>Coretta Cubie</td>\n",
       "      <td>303645</td>\n",
       "      <td>3631</td>\n",
       "      <td>Northwestern Dr</td>\n",
       "      <td>378403829</td>\n",
       "    </tr>\n",
       "    <tr>\n",
       "      <th>7040</th>\n",
       "      <td>73368</td>\n",
       "      <td>Torie Thalmann</td>\n",
       "      <td>773862</td>\n",
       "      <td>3697</td>\n",
       "      <td>Northwestern Dr</td>\n",
       "      <td>341559436</td>\n",
       "    </tr>\n",
       "    <tr>\n",
       "      <th>4886</th>\n",
       "      <td>53890</td>\n",
       "      <td>Sophie Tiberio</td>\n",
       "      <td>957671</td>\n",
       "      <td>3755</td>\n",
       "      <td>Northwestern Dr</td>\n",
       "      <td>442830147</td>\n",
       "    </tr>\n",
       "    <tr>\n",
       "      <th>811</th>\n",
       "      <td>17729</td>\n",
       "      <td>Lasonya Wildey</td>\n",
       "      <td>439686</td>\n",
       "      <td>3824</td>\n",
       "      <td>Northwestern Dr</td>\n",
       "      <td>917817122</td>\n",
       "    </tr>\n",
       "    <tr>\n",
       "      <th>499</th>\n",
       "      <td>14887</td>\n",
       "      <td>Morty Schapiro</td>\n",
       "      <td>118009</td>\n",
       "      <td>4919</td>\n",
       "      <td>Northwestern Dr</td>\n",
       "      <td>111564949</td>\n",
       "    </tr>\n",
       "  </tbody>\n",
       "</table>\n",
       "</div>"
      ],
      "text/plain": [
       "         Id            Name  License_Id  Address_Number Address_Street_Name  \\\n",
       "9609  96595   Coretta Cubie      303645            3631     Northwestern Dr   \n",
       "7040  73368  Torie Thalmann      773862            3697     Northwestern Dr   \n",
       "4886  53890  Sophie Tiberio      957671            3755     Northwestern Dr   \n",
       "811   17729  Lasonya Wildey      439686            3824     Northwestern Dr   \n",
       "499   14887  Morty Schapiro      118009            4919     Northwestern Dr   \n",
       "\n",
       "            Ssn  \n",
       "9609  378403829  \n",
       "7040  341559436  \n",
       "4886  442830147  \n",
       "811   917817122  \n",
       "499   111564949  "
      ]
     },
     "execution_count": 108,
     "metadata": {},
     "output_type": "execute_result"
    }
   ],
   "source": [
    "#Encuentro el primer testigo\n",
    "person[person['Address_Street_Name'].str.contains('Northwestern Dr')].sort_values(by=['Address_Number']).tail()"
   ]
  },
  {
   "cell_type": "code",
   "execution_count": 109,
   "metadata": {},
   "outputs": [
    {
     "data": {
      "text/html": [
       "<div>\n",
       "<style scoped>\n",
       "    .dataframe tbody tr th:only-of-type {\n",
       "        vertical-align: middle;\n",
       "    }\n",
       "\n",
       "    .dataframe tbody tr th {\n",
       "        vertical-align: top;\n",
       "    }\n",
       "\n",
       "    .dataframe thead th {\n",
       "        text-align: right;\n",
       "    }\n",
       "</style>\n",
       "<table border=\"1\" class=\"dataframe\">\n",
       "  <thead>\n",
       "    <tr style=\"text-align: right;\">\n",
       "      <th></th>\n",
       "      <th>Id</th>\n",
       "      <th>Name</th>\n",
       "      <th>License_Id</th>\n",
       "      <th>Address_Number</th>\n",
       "      <th>Address_Street_Name</th>\n",
       "      <th>Ssn</th>\n",
       "    </tr>\n",
       "  </thead>\n",
       "  <tbody>\n",
       "    <tr>\n",
       "      <th>665</th>\n",
       "      <td>16371</td>\n",
       "      <td>Annabel Miller</td>\n",
       "      <td>490173</td>\n",
       "      <td>103</td>\n",
       "      <td>Franklin Ave</td>\n",
       "      <td>318771143</td>\n",
       "    </tr>\n",
       "  </tbody>\n",
       "</table>\n",
       "</div>"
      ],
      "text/plain": [
       "        Id            Name  License_Id  Address_Number Address_Street_Name  \\\n",
       "665  16371  Annabel Miller      490173             103        Franklin Ave   \n",
       "\n",
       "           Ssn  \n",
       "665  318771143  "
      ]
     },
     "execution_count": 109,
     "metadata": {},
     "output_type": "execute_result"
    }
   ],
   "source": [
    "#Encuentro al segundo testigo\n",
    "person[person['Address_Street_Name'].str.contains('Franklin Ave') & person['Name'].str.contains('Annabel')] "
   ]
  },
  {
   "cell_type": "code",
   "execution_count": 110,
   "metadata": {},
   "outputs": [
    {
     "data": {
      "text/plain": [
       "4988    I heard a gunshot and then saw a man run out. He had a \"Get Fit Now Gym\" bag. The membership number on the bag started with \"48Z\". Only gold members have those bags. The man got into a car with a plate that included \"H42W\".\n",
       "Name: Transcript, dtype: object"
      ]
     },
     "execution_count": 110,
     "metadata": {},
     "output_type": "execute_result"
    }
   ],
   "source": [
    "#Entervista del primer testigo\n",
    "interview[interview['Person_Id'] == 14887]['Transcript']\n"
   ]
  },
  {
   "cell_type": "code",
   "execution_count": 111,
   "metadata": {},
   "outputs": [
    {
     "data": {
      "text/plain": [
       "4989    I saw the murder happen, and I recognized the killer from my gym when I was working out last week on January the 9th.\n",
       "Name: Transcript, dtype: object"
      ]
     },
     "execution_count": 111,
     "metadata": {},
     "output_type": "execute_result"
    }
   ],
   "source": [
    "#Entreviste del segundo testigo\n",
    "interview[interview['Person_Id'] == 16371]['Transcript']"
   ]
  },
  {
   "cell_type": "code",
   "execution_count": 127,
   "metadata": {},
   "outputs": [],
   "source": [
    "#Cambio el nombre de las columnas en drivers_licence y person, de esa manera hacerlo consistente\n",
    "drivers_license=drivers_license.rename(columns={'Id':'License_Id'})\n",
    "person = person.rename(columns={'Id':'Person_Id'})\n",
    "\n",
    "#Creo una copia de getfitnow_members para no modificar la dataframe original\n",
    "merged_df = getfitnow_members.copy()\n",
    "\n",
    "#Con merge, combinamos las tablas para poder analizarlo en su totalidad\n",
    "merged_df = merged_df.merge(person,on='Person_Id')\n",
    "merged_df = merged_df.merge(drivers_license,on='License_Id')"
   ]
  },
  {
   "cell_type": "code",
   "execution_count": 113,
   "metadata": {},
   "outputs": [
    {
     "data": {
      "text/html": [
       "<div>\n",
       "<style scoped>\n",
       "    .dataframe tbody tr th:only-of-type {\n",
       "        vertical-align: middle;\n",
       "    }\n",
       "\n",
       "    .dataframe tbody tr th {\n",
       "        vertical-align: top;\n",
       "    }\n",
       "\n",
       "    .dataframe thead th {\n",
       "        text-align: right;\n",
       "    }\n",
       "</style>\n",
       "<table border=\"1\" class=\"dataframe\">\n",
       "  <thead>\n",
       "    <tr style=\"text-align: right;\">\n",
       "      <th></th>\n",
       "      <th>Id</th>\n",
       "      <th>Person_Id</th>\n",
       "      <th>Name_x</th>\n",
       "      <th>Membership_Start_Date</th>\n",
       "      <th>Membership_Status</th>\n",
       "      <th>Name_y</th>\n",
       "      <th>License_Id</th>\n",
       "      <th>Address_Number</th>\n",
       "      <th>Address_Street_Name</th>\n",
       "      <th>Ssn</th>\n",
       "      <th>Age</th>\n",
       "      <th>Height</th>\n",
       "      <th>Eye_Color</th>\n",
       "      <th>Hair_Color</th>\n",
       "      <th>Gender</th>\n",
       "      <th>Plate_Number</th>\n",
       "      <th>Car_Make</th>\n",
       "      <th>Car_Model</th>\n",
       "    </tr>\n",
       "  </thead>\n",
       "  <tbody>\n",
       "    <tr>\n",
       "      <th>65</th>\n",
       "      <td>48Z55</td>\n",
       "      <td>67318</td>\n",
       "      <td>Jeremy Bowers</td>\n",
       "      <td>2016-01-01</td>\n",
       "      <td>Gold</td>\n",
       "      <td>Jeremy Bowers</td>\n",
       "      <td>423327</td>\n",
       "      <td>530</td>\n",
       "      <td>Washington Pl, Apt 3A</td>\n",
       "      <td>871539279</td>\n",
       "      <td>30</td>\n",
       "      <td>70</td>\n",
       "      <td>brown</td>\n",
       "      <td>Brown</td>\n",
       "      <td>Male</td>\n",
       "      <td>0H42W2</td>\n",
       "      <td>Chevrolet</td>\n",
       "      <td>Spark LS</td>\n",
       "    </tr>\n",
       "  </tbody>\n",
       "</table>\n",
       "</div>"
      ],
      "text/plain": [
       "       Id  Person_Id         Name_x Membership_Start_Date Membership_Status  \\\n",
       "65  48Z55      67318  Jeremy Bowers            2016-01-01              Gold   \n",
       "\n",
       "           Name_y  License_Id  Address_Number    Address_Street_Name  \\\n",
       "65  Jeremy Bowers      423327             530  Washington Pl, Apt 3A   \n",
       "\n",
       "          Ssn  Age  Height Eye_Color Hair_Color Gender Plate_Number  \\\n",
       "65  871539279   30      70     brown      Brown   Male       0H42W2   \n",
       "\n",
       "     Car_Make Car_Model  \n",
       "65  Chevrolet  Spark LS  "
      ]
     },
     "execution_count": 113,
     "metadata": {},
     "output_type": "execute_result"
    }
   ],
   "source": [
    "#Se analiza la tabla con la informacion que encontramos\n",
    "merged_df[merged_df['Id'].str.contains('48Z') &\n",
    "          merged_df['Membership_Status'].str.contains('Gold') &\n",
    "          merged_df['Plate_Number'].str.contains('H42W') &\n",
    "          merged_df['Membership_Start_Date'].le('2018-01-09')\n",
    "          ]"
   ]
  },
  {
   "cell_type": "markdown",
   "metadata": {},
   "source": [
    "## Si creen que encontraron al asesino, ejecuten el siguiente codigo con el posible sospechoso\n",
    "\n",
    " Por favor, tene en cuenta que es recomendable no acceder al archivo \"asesino.py\" para evitar revelar detalles importantes de la caso. Si deseas disfrutar plenamente de la experiencia sin spoilers, te sugiero que evites examinar dicho archivo.\""
   ]
  },
  {
   "cell_type": "code",
   "execution_count": 114,
   "metadata": {},
   "outputs": [
    {
     "name": "stdout",
     "output_type": "stream",
     "text": [
      "¡Felicidades, encontraste al asesino! Pero espera, hay más...\n",
      " Si crees que estas preparado para un desafío, segui investigando \n",
      " la transcripcion del asesino para encontrar al verdadero villano detrás de este crimen\n"
     ]
    }
   ],
   "source": [
    "from asesino import solucion\n",
    "solucion(\"Jeremy Bowers\")"
   ]
  },
  {
   "cell_type": "code",
   "execution_count": 115,
   "metadata": {},
   "outputs": [
    {
     "data": {
      "text/plain": [
       "4990    I was hired by a woman with a lot of money. I don't know her name but I know she's around 5'5\" (65\") or 5'7\" (67\"). She has red hair and she drives a Tesla Model S. I know that she attended the SQL Symphony Concert 3 times in December 2017.\n",
       "Name: Transcript, dtype: object"
      ]
     },
     "execution_count": 115,
     "metadata": {},
     "output_type": "execute_result"
    }
   ],
   "source": [
    "interview[interview['Person_Id'] == 67318]['Transcript']"
   ]
  },
  {
   "cell_type": "code",
   "execution_count": 133,
   "metadata": {},
   "outputs": [],
   "source": [
    "merged_df2 = facebook_event_checkin.copy()\n",
    "merged_df2 = merged_df2.rename(columns={'person_id':'Person_Id'})\n",
    "\n",
    "merged_df2 = merged_df2.merge(person,on='Person_Id')\n",
    "merged_df2 = merged_df2.merge(drivers_license,on='License_Id')\n"
   ]
  },
  {
   "cell_type": "code",
   "execution_count": 134,
   "metadata": {},
   "outputs": [
    {
     "data": {
      "text/html": [
       "<div>\n",
       "<style scoped>\n",
       "    .dataframe tbody tr th:only-of-type {\n",
       "        vertical-align: middle;\n",
       "    }\n",
       "\n",
       "    .dataframe tbody tr th {\n",
       "        vertical-align: top;\n",
       "    }\n",
       "\n",
       "    .dataframe thead th {\n",
       "        text-align: right;\n",
       "    }\n",
       "</style>\n",
       "<table border=\"1\" class=\"dataframe\">\n",
       "  <thead>\n",
       "    <tr style=\"text-align: right;\">\n",
       "      <th></th>\n",
       "      <th>Person_Id</th>\n",
       "      <th>event_id</th>\n",
       "      <th>event_name</th>\n",
       "      <th>date</th>\n",
       "      <th>Name</th>\n",
       "      <th>License_Id</th>\n",
       "      <th>Address_Number</th>\n",
       "      <th>Address_Street_Name</th>\n",
       "      <th>Ssn</th>\n",
       "      <th>Age</th>\n",
       "      <th>Height</th>\n",
       "      <th>Eye_Color</th>\n",
       "      <th>Hair_Color</th>\n",
       "      <th>Gender</th>\n",
       "      <th>Plate_Number</th>\n",
       "      <th>Car_Make</th>\n",
       "      <th>Car_Model</th>\n",
       "    </tr>\n",
       "  </thead>\n",
       "  <tbody>\n",
       "    <tr>\n",
       "      <th>20003</th>\n",
       "      <td>99716</td>\n",
       "      <td>1143</td>\n",
       "      <td>SQL Symphony Concert</td>\n",
       "      <td>20171206</td>\n",
       "      <td>Miranda Priestly</td>\n",
       "      <td>202298</td>\n",
       "      <td>1883</td>\n",
       "      <td>Golden Ave</td>\n",
       "      <td>987756388</td>\n",
       "      <td>68</td>\n",
       "      <td>66</td>\n",
       "      <td>green</td>\n",
       "      <td>Red</td>\n",
       "      <td>Female</td>\n",
       "      <td>500123</td>\n",
       "      <td>Tesla</td>\n",
       "      <td>Model S</td>\n",
       "    </tr>\n",
       "    <tr>\n",
       "      <th>20004</th>\n",
       "      <td>99716</td>\n",
       "      <td>1143</td>\n",
       "      <td>SQL Symphony Concert</td>\n",
       "      <td>20171212</td>\n",
       "      <td>Miranda Priestly</td>\n",
       "      <td>202298</td>\n",
       "      <td>1883</td>\n",
       "      <td>Golden Ave</td>\n",
       "      <td>987756388</td>\n",
       "      <td>68</td>\n",
       "      <td>66</td>\n",
       "      <td>green</td>\n",
       "      <td>Red</td>\n",
       "      <td>Female</td>\n",
       "      <td>500123</td>\n",
       "      <td>Tesla</td>\n",
       "      <td>Model S</td>\n",
       "    </tr>\n",
       "    <tr>\n",
       "      <th>20005</th>\n",
       "      <td>99716</td>\n",
       "      <td>1143</td>\n",
       "      <td>SQL Symphony Concert</td>\n",
       "      <td>20171229</td>\n",
       "      <td>Miranda Priestly</td>\n",
       "      <td>202298</td>\n",
       "      <td>1883</td>\n",
       "      <td>Golden Ave</td>\n",
       "      <td>987756388</td>\n",
       "      <td>68</td>\n",
       "      <td>66</td>\n",
       "      <td>green</td>\n",
       "      <td>Red</td>\n",
       "      <td>Female</td>\n",
       "      <td>500123</td>\n",
       "      <td>Tesla</td>\n",
       "      <td>Model S</td>\n",
       "    </tr>\n",
       "  </tbody>\n",
       "</table>\n",
       "</div>"
      ],
      "text/plain": [
       "       Person_Id  event_id            event_name      date              Name  \\\n",
       "20003      99716      1143  SQL Symphony Concert  20171206  Miranda Priestly   \n",
       "20004      99716      1143  SQL Symphony Concert  20171212  Miranda Priestly   \n",
       "20005      99716      1143  SQL Symphony Concert  20171229  Miranda Priestly   \n",
       "\n",
       "       License_Id  Address_Number Address_Street_Name        Ssn  Age  Height  \\\n",
       "20003      202298            1883          Golden Ave  987756388   68      66   \n",
       "20004      202298            1883          Golden Ave  987756388   68      66   \n",
       "20005      202298            1883          Golden Ave  987756388   68      66   \n",
       "\n",
       "      Eye_Color Hair_Color  Gender Plate_Number Car_Make Car_Model  \n",
       "20003     green        Red  Female       500123    Tesla   Model S  \n",
       "20004     green        Red  Female       500123    Tesla   Model S  \n",
       "20005     green        Red  Female       500123    Tesla   Model S  "
      ]
     },
     "execution_count": 134,
     "metadata": {},
     "output_type": "execute_result"
    }
   ],
   "source": [
    "merged_df2[merged_df2['Height'].le(67) &\n",
    "                merged_df2['Height'].ge(65) &\n",
    "                merged_df2['Gender'].str.contains('Female') &\n",
    "                merged_df2['Car_Make'].str.contains('Tesla') &\n",
    "                merged_df2['Car_Model'].str.contains('Model S') &\n",
    "                merged_df2['Hair_Color'].str.contains('Red') &\n",
    "                merged_df2['event_name'].str.contains('SQL Symphony Concert')\n",
    "                ]"
   ]
  },
  {
   "cell_type": "code",
   "execution_count": 119,
   "metadata": {},
   "outputs": [
    {
     "name": "stdout",
     "output_type": "stream",
     "text": [
      "¡Muy bien hecho! Encontraste a la mente detras del asesinato\n",
      " Todos en Pandas City te aclaman como el mejor detective de PANDAS de todos los tiempos. ¡Ya es hora de sacar el champagne!\n"
     ]
    }
   ],
   "source": [
    "solucion(\"Miranda Priestly\")"
   ]
  }
 ],
 "metadata": {
  "kernelspec": {
   "display_name": "Python 3",
   "language": "python",
   "name": "python3"
  },
  "language_info": {
   "codemirror_mode": {
    "name": "ipython",
    "version": 3
   },
   "file_extension": ".py",
   "mimetype": "text/x-python",
   "name": "python",
   "nbconvert_exporter": "python",
   "pygments_lexer": "ipython3",
   "version": "3.10.11"
  },
  "orig_nbformat": 4,
  "vscode": {
   "interpreter": {
    "hash": "40ea231ce006ed65b013ba3e9b5a48267321b4d32b910ea3a649228a606377c3"
   }
  }
 },
 "nbformat": 4,
 "nbformat_minor": 2
}
